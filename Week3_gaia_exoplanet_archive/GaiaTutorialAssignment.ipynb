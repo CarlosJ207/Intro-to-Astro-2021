{
 "cells": [
  {
   "cell_type": "markdown",
   "metadata": {},
   "source": [
    "# Gaia Data Release 2 (DR2) Tutorial and Assignment\n",
    "\n",
    "## Intro to Astronomy 2021, Week 3\n",
    "\n",
    "#### Originally written by Sarah Blunt, 2018 and modified by Aldo Panfichi, 2020. Updated by [Chetan Chawla](https://sites.google.com/view/chetanchawla), 2021.\n",
    "\n",
    "### In this tutorial, you will:\n",
    "- learn about the Gaia DR2 Database and basic queries\n",
    "- learn about the Astronomical Data Query Language (ADQL)\n",
    "- use the Gaia DR2 Database to get Gaia parameters for the 10,000 closest stars\n",
    "- plot a color-magnitude diagram"
   ]
  },
  {
   "cell_type": "markdown",
   "metadata": {},
   "source": [
    "## 1. Tutorial\n",
    "\n",
    "#### Note: The tutorial is descriptive. Skip over the details which you are already aware of (most of these topics are marked with ✅)\n",
    "#### Note: The data to be loaded for tutorial and the assignment is not uploaded alongside this notebook and you should download them yourself using the instructions specified from the Gaia Archive (to get familiar with it). If you have some doubts, post your questions on Piazza.\n",
    "\n",
    "### 1.1. What is Gaia?\n",
    "\n",
    "<div style=\"text-align:right;\"><i>\n",
    "Image Source: <a url=http://www.esa.int/Enabling_Support/Operations/Gaia_operations>ESA: Gaia Operations</a>\n",
    "    </i> </div>\n",
    "<img src=\"http://www.esa.int/var/esa/storage/images/esa_multimedia/images/2013/08/artist_s_impression_of_gaia3/12976074-3-eng-GB/Artist_s_impression_of_Gaia_pillars.jpg\" alt=\"Gaia\" style=\"width: 40%; float:right;\"/>\n",
    "\n",
    "Gaia is a mission led by the European Space Agency (ESA) to collect photometric (measurement of luminosity), spectroscopic (measurement of radiation intensity as a function of wavelength), and (primarily) astrometric (precise measurement of positions, distances and motions of stars and other astronomical bodies) data for several astronomical objects (mainly Milky Way stars).\n",
    "\n",
    "The Gaia spacecraft (successor to the Hipparcos mission) was launched in 2013, and is expected to continue its mission until 2022 (with a possiblity of an extension till 2024). Gaia aims to put together by far the largest and most precise 3D space catalog to date, totalling approximately 1 billion astronomical objects at a precision of mas (micro-arcseconds) - mainly consisting of stars, but also planets, comets, asteroids and quasars among others. It is positioned on the [second Lagrange point](https://solarsystem.nasa.gov/resources/754/what-is-a-lagrange-point/) of the Earth-Sun system, and it has two [Three-Mirror Anastigmatic telescopes](http://www.esa.int/var/esa/storage/images/esa_multimedia/images/2013/08/artist_s_impression_of_gaia3/12976074-3-eng-GB/Artist_s_impression_of_Gaia_pillars.jpg) positioned at an angle of 106.5° to give wide fields of view and to give absolute astrometry. Gaia can be used for stellar astrophysics, positional and motion survey of a billion stars in the Milky Way, measuring distances of far away clusters using variable stars, potential exoplanet discoveries using astrometry(primarly) and transits, and spectroscopy of stars. You can read more about Gaia operations [here](http://www.esa.int/Enabling_Support/Operations/Gaia_operations)."
   ]
  },
  {
   "cell_type": "markdown",
   "metadata": {},
   "source": [
    "### 1.2. Gaia Data\n",
    "\n",
    "Gaia Data primarily contains of - Right Ascension (RA), Declination (Dec), Parallax, Radial Velocity (RV), Proper Motion in terms of Right Ascension (pmra), and Proper Motion in terms of Declination (pmdec).\n",
    "\n",
    "1. ✅ **Right Ascension and Declination**- They are the longitude and latitude to position an object in the celestial frame of reference, or they are the celestial coordinates. They are calculated as positions in the plane of the sky. Read more about them at [https://skyandtelescope.org/astronomy-resources/right-ascension-declination-celestial-coordinates/](https://skyandtelescope.org/astronomy-resources/right-ascension-declination-celestial-coordinates/).\n",
    "[(Image Source)](https://en.wikipedia.org/wiki/Right_ascension)\n",
    "\n",
    "<img src=\"https://upload.wikimedia.org/wikipedia/commons/6/66/Ra_and_dec_demo_animation_small.gif\" alt=\"RA Dec\" style=\"width: 35%; float:center;\"/> \n",
    "\n",
    "2. ✅ **Parallax**- The effect which causes an apparent shift in the position of an object with request to a background when observed from two different points (separated by a distance called basis) It is calculated as the semi-angle of inclination of these two different line of sights from the observation points to the object. Image source and more at: [https://en.wikipedia.org/wiki/Parallax](https://en.wikipedia.org/wiki/Parallax) \n",
    "\n",
    "<img src=\"https://upload.wikimedia.org/wikipedia/commons/thumb/e/e3/Stellarparallax2.svg/340px-Stellarparallax2.svg.png\" alt=\"Parallax\" style=\"width: 15%; float:center;\"/>\n",
    "\n",
    "3. ✅ **Radial Velocity**- It is the velocity of an object in a direction away from or towards the Earth (observation point). In a more general sense, it is the velocity between the object and the observation point in the direction of the radius connecting the point and the object\n",
    "\n",
    "4. ✅ **Proper Motions (RA and Dec)**- Proper Motion is the rate of angular drift in the plane of the sky or in a transverse direction. In other words, pmra and pmdec are the rates of change of the RA and Dec of an object in the sky respectively. Their resultant is also called the transverse velocity or total proper motion. The space velocity of an object is the resultant of the transverse velocity and the radial velocity\n",
    "\n",
    "#### 1.2.1. Gaia Data Releases\n",
    "\n",
    "Gaia data is made publicly available through periodic data releases (DRs). Each Data Release has a richer data than the previous data release as Gaia covers the stars more times and adds new stars and objects as well. We had two full releases (DR1 and DR2)  until now, and an Early Data Release 3 (EDR3) is the latest update. We will be working with the most recent full release, DR2. You can also try working with EDR3 with almost negligible changes to the queries we use here.\n",
    "\n",
    "\n",
    "#### 1.2.2. Gaia Archive\n",
    "\n",
    "Gaia Archive is a remote server which hosts the publicly available Dsta Releases of Gaia in the form of a database. It also provides us an interface to query the data and manipulate it according to our needs on the server itself, without us having the need to download the data first on our local computers. Using the Gaia archive site, we can get data on the positions, brightnesses, distances, and more for millions of stars and do various kinds of science and data visualization from them.\n",
    "\n",
    "**The Gaia archive can be found here: https://gea.esac.esa.int/archive/**\n",
    "\n",
    "Click on \"Search\" in the top left. You will see a form you can fill out to query the database. This is the \"Basic\" search, done through a GUI, where you can fill in conditions of your search using drop-down menus.\n",
    "\n",
    "If you click on the \"Advanced (ADQL)\" tab at the top left, you will be able write your own, more complex query in an SQL-type language (SQL- Structured Query Language) made for Gaia (the Astronomical Data Query Language). You'll probably have to do this for the assignment, but for now, let's learn how the basic query works."
   ]
  },
  {
   "cell_type": "markdown",
   "metadata": {},
   "source": [
    "### 1.3 Basic Search\n",
    "\n",
    "**Task:** We will use the Basic Search in Gaia Archive to fetch the first 500 stars in 3 arcminutes radius circle around the globular cluster, Messier 5. We will then read this data in Python and plot the stars in a RA-Dec space.\n",
    "\n",
    "**Steps for Basic Search:**\n",
    "1. Make sure you're on the Basic query page\n",
    "2. In the \"Name\" field, type in \"Messier 5\". It should resolve the name. This will center our search on M5, a globular cluster in the constellation Serpens.\n",
    "3. To the right, put a \"3\" and then change the unit from \"arc sec\" to \"arc min\". This will tell the archive to search in a radius of 3 arcminutes around M5. There are 60 arcseconds in an arcminute, and 60 arcminutes in a degree.\n",
    "4. At the bottom, change \"Max. number of results\" to 500. We're looking for the first 500 results.\n",
    "5. Make sure that the \"Search In\" drop down says \"gaiadr2.gaia_source\". This specifies the data we want to use is frrom source of Gaia DR2 \n",
    "6. Click \"Submit Query\"\n",
    "7. You'll see a table pop up with the first 20 results from the query. At the bottom, change \"VOTable\" to \"csv\" and click \"Download results\". This will download a csv to your computer with the queried data in it.\n",
    "\n",
    "*You can always click on \"Show query in ADQL form\" below, to see what your basic query would look like in ADQL syntax!*"
   ]
  },
  {
   "cell_type": "code",
   "execution_count": 1,
   "metadata": {
    "scrolled": false
   },
   "outputs": [
    {
     "data": {
      "text/html": [
       "<div style=\"text-align:center;\">\n",
       "<iframe src=\"https://gea.esac.esa.int/archive/\" width=\"960\" height=\"540\"></iframe>\n",
       "</div>\n"
      ],
      "text/plain": [
       "<IPython.core.display.HTML object>"
      ]
     },
     "metadata": {},
     "output_type": "display_data"
    }
   ],
   "source": [
    "%%html\n",
    "<div style=\"text-align:center;\">\n",
    "<iframe src=\"https://gea.esac.esa.int/archive/\" width=\"960\" height=\"540\"></iframe>\n",
    "</div>"
   ]
  },
  {
   "cell_type": "markdown",
   "metadata": {},
   "source": [
    "Now that we have downloaded the stellar data for top 500 stars in 5 arcminutes radius circle around M5, we will read that data in Python using Pandas and plot it."
   ]
  },
  {
   "cell_type": "code",
   "execution_count": 2,
   "metadata": {},
   "outputs": [],
   "source": [
    "# First, let's get the imports out of the way.\n",
    "\n",
    "# numpy, for math (numerical calculations)\n",
    "import numpy as np\n",
    "\n",
    "# pandas, for data handling\n",
    "import pandas as pd\n",
    "pd.set_option('display.max_columns', None) # Display all of the columns of a DataFrame\n",
    "\n",
    "# matplotlib, for plotting\n",
    "import matplotlib.pyplot as plt\n",
    "\n",
    "# \"Magic command\" to make the plots appear *inline* in the notebook\n",
    "%matplotlib inline"
   ]
  },
  {
   "cell_type": "code",
   "execution_count": 3,
   "metadata": {},
   "outputs": [
    {
     "name": "stdout",
     "output_type": "stream",
     "text": [
      "(Rows, Columns) = (500, 14)\n"
     ]
    },
    {
     "data": {
      "text/html": [
       "<div>\n",
       "<style scoped>\n",
       "    .dataframe tbody tr th:only-of-type {\n",
       "        vertical-align: middle;\n",
       "    }\n",
       "\n",
       "    .dataframe tbody tr th {\n",
       "        vertical-align: top;\n",
       "    }\n",
       "\n",
       "    .dataframe thead th {\n",
       "        text-align: right;\n",
       "    }\n",
       "</style>\n",
       "<table border=\"1\" class=\"dataframe\">\n",
       "  <thead>\n",
       "    <tr style=\"text-align: right;\">\n",
       "      <th></th>\n",
       "      <th>source_id</th>\n",
       "      <th>ra</th>\n",
       "      <th>ra_error</th>\n",
       "      <th>dec</th>\n",
       "      <th>dec_error</th>\n",
       "      <th>parallax</th>\n",
       "      <th>parallax_error</th>\n",
       "      <th>phot_g_mean_mag</th>\n",
       "      <th>bp_rp</th>\n",
       "      <th>radial_velocity</th>\n",
       "      <th>radial_velocity_error</th>\n",
       "      <th>phot_variable_flag</th>\n",
       "      <th>teff_val</th>\n",
       "      <th>a_g_val</th>\n",
       "    </tr>\n",
       "  </thead>\n",
       "  <tbody>\n",
       "    <tr>\n",
       "      <th>0</th>\n",
       "      <td>4421572868783602304</td>\n",
       "      <td>229.608260</td>\n",
       "      <td>0.451151</td>\n",
       "      <td>2.080235</td>\n",
       "      <td>0.755487</td>\n",
       "      <td>NaN</td>\n",
       "      <td>NaN</td>\n",
       "      <td>18.320505</td>\n",
       "      <td>NaN</td>\n",
       "      <td>NaN</td>\n",
       "      <td>NaN</td>\n",
       "      <td>NOT_AVAILABLE</td>\n",
       "      <td>NaN</td>\n",
       "      <td>NaN</td>\n",
       "    </tr>\n",
       "    <tr>\n",
       "      <th>1</th>\n",
       "      <td>4421573315458434816</td>\n",
       "      <td>229.661337</td>\n",
       "      <td>20.658777</td>\n",
       "      <td>2.095936</td>\n",
       "      <td>35.101277</td>\n",
       "      <td>NaN</td>\n",
       "      <td>NaN</td>\n",
       "      <td>18.712660</td>\n",
       "      <td>NaN</td>\n",
       "      <td>NaN</td>\n",
       "      <td>NaN</td>\n",
       "      <td>NOT_AVAILABLE</td>\n",
       "      <td>NaN</td>\n",
       "      <td>NaN</td>\n",
       "    </tr>\n",
       "    <tr>\n",
       "      <th>2</th>\n",
       "      <td>4421573212376895104</td>\n",
       "      <td>229.626614</td>\n",
       "      <td>2.232215</td>\n",
       "      <td>2.102885</td>\n",
       "      <td>3.039926</td>\n",
       "      <td>NaN</td>\n",
       "      <td>NaN</td>\n",
       "      <td>18.354128</td>\n",
       "      <td>NaN</td>\n",
       "      <td>NaN</td>\n",
       "      <td>NaN</td>\n",
       "      <td>NOT_AVAILABLE</td>\n",
       "      <td>NaN</td>\n",
       "      <td>NaN</td>\n",
       "    </tr>\n",
       "    <tr>\n",
       "      <th>3</th>\n",
       "      <td>4421572971862343296</td>\n",
       "      <td>229.623267</td>\n",
       "      <td>2.472374</td>\n",
       "      <td>2.089429</td>\n",
       "      <td>1.216912</td>\n",
       "      <td>NaN</td>\n",
       "      <td>NaN</td>\n",
       "      <td>18.066124</td>\n",
       "      <td>NaN</td>\n",
       "      <td>NaN</td>\n",
       "      <td>NaN</td>\n",
       "      <td>NOT_AVAILABLE</td>\n",
       "      <td>NaN</td>\n",
       "      <td>NaN</td>\n",
       "    </tr>\n",
       "    <tr>\n",
       "      <th>4</th>\n",
       "      <td>4421572044148629760</td>\n",
       "      <td>229.641719</td>\n",
       "      <td>10.074508</td>\n",
       "      <td>2.056986</td>\n",
       "      <td>2.576733</td>\n",
       "      <td>NaN</td>\n",
       "      <td>NaN</td>\n",
       "      <td>18.675959</td>\n",
       "      <td>NaN</td>\n",
       "      <td>NaN</td>\n",
       "      <td>NaN</td>\n",
       "      <td>NOT_AVAILABLE</td>\n",
       "      <td>NaN</td>\n",
       "      <td>NaN</td>\n",
       "    </tr>\n",
       "  </tbody>\n",
       "</table>\n",
       "</div>"
      ],
      "text/plain": [
       "             source_id          ra   ra_error       dec  dec_error  parallax  \\\n",
       "0  4421572868783602304  229.608260   0.451151  2.080235   0.755487       NaN   \n",
       "1  4421573315458434816  229.661337  20.658777  2.095936  35.101277       NaN   \n",
       "2  4421573212376895104  229.626614   2.232215  2.102885   3.039926       NaN   \n",
       "3  4421572971862343296  229.623267   2.472374  2.089429   1.216912       NaN   \n",
       "4  4421572044148629760  229.641719  10.074508  2.056986   2.576733       NaN   \n",
       "\n",
       "   parallax_error  phot_g_mean_mag  bp_rp  radial_velocity  \\\n",
       "0             NaN        18.320505    NaN              NaN   \n",
       "1             NaN        18.712660    NaN              NaN   \n",
       "2             NaN        18.354128    NaN              NaN   \n",
       "3             NaN        18.066124    NaN              NaN   \n",
       "4             NaN        18.675959    NaN              NaN   \n",
       "\n",
       "   radial_velocity_error phot_variable_flag  teff_val  a_g_val  \n",
       "0                    NaN      NOT_AVAILABLE       NaN      NaN  \n",
       "1                    NaN      NOT_AVAILABLE       NaN      NaN  \n",
       "2                    NaN      NOT_AVAILABLE       NaN      NaN  \n",
       "3                    NaN      NOT_AVAILABLE       NaN      NaN  \n",
       "4                    NaN      NOT_AVAILABLE       NaN      NaN  "
      ]
     },
     "execution_count": 3,
     "metadata": {},
     "output_type": "execute_result"
    }
   ],
   "source": [
    "#Now we can read the csv file into a pandas dataframe\n",
    "\n",
    "m5 = pd.read_csv('data/m5.csv') # I renamed my csv file to 'm5.csv' and put it in the the subfolder 'data'\n",
    "\n",
    "#Checking the top few rows of the data and the number of rows and columns\n",
    "print(\"(Rows, Columns) =\", m5.shape)\n",
    "m5.head()"
   ]
  },
  {
   "cell_type": "code",
   "execution_count": 4,
   "metadata": {
    "scrolled": false
   },
   "outputs": [
    {
     "data": {
      "image/png": "[encoded data removed]",
      "text/plain": [
       "<Figure size 720x720 with 1 Axes>"
      ]
     },
     "metadata": {
      "needs_background": "light"
     },
     "output_type": "display_data"
    }
   ],
   "source": [
    "# Here are the results of our query plotted into ra/dec space\n",
    "\n",
    "fig = plt.figure(figsize = [10,10]) # Defining and sizing figure\n",
    "\n",
    "plt.scatter(m5['ra'], m5['dec']) # Creating a scatter-plot\n",
    "plt.plot(229.6375, 2.0811, 'ro') # Plotting the coordinates of M5 in red (central coordinates for our circular search)\n",
    "#The coordinates can be taken from the query through \"Show query in ADQL form\"\n",
    "\n",
    "#Setting labels and title\n",
    "plt.xlabel('RA (°)')\n",
    "plt.ylabel('Dec (°)')\n",
    "plt.title('500 top stars from Gaia DR2 (ordered randomly) around Messier 5')\n",
    "plt.show()"
   ]
  },
  {
   "cell_type": "markdown",
   "metadata": {},
   "source": [
    "Note: If you are querying the above results using EDR3, you will have to spicify `ORDER BY random_index` in ADQL after clicking on \"Show query in ADQL form\" and then submitting the query, as data in EDR3 is not ordered randomly on RA and Dec by default.\n",
    "\n",
    "### 1.4. A slightly more advanced search using the Simple Search\n",
    "\n",
    "**Task:** We will use the basic search to fetch stars that are in a 1 degree radius circle in the sky, centered around the globular cluster M92, that have a parallax greater than or equal to 5 and the parallax divded by its error greater than 20 (say we want very precise measurements of distance, which is just 1/parallax). We can also say we only care to make astrometric measurements right now, so we don't care about any photometric datapoints such as colors or magnitudes.\n",
    "\n",
    "**Steps for Basic Search:**\n",
    "1. Make sure you're on the Basic query page\n",
    "2. In the \"Name\" field type in \"Messier 92\". It should resolve the name. This will center our search on M92, a globular cluster in the northern constellation of Hercules.\n",
    "3. To the right, put a \"1\" and then change the unit from \"arc sec\" to \"degree\". This will tell the archive to search in a radius of 1 degree around M92.\n",
    "4. Under \"Extra Conditions\", you can add conditions to filter your data by. For example, say we wanted to look for close stars (say, with parallaxes greater than 5) with well-resolved parallax measurements (so the error in parallax is no larger than, say, 1/20th of the parallax value). In this example, we could do this by adding a condition that says \"parallax\" >= 5, and another condition to say \"parallax_over_error\" >= 20 (parallax_over_error >= 20 means that parallax value is atleast 20 times the error)\n",
    "5. Under \"Display Columns\" you can pick and choose what data you wish to query the archive for. For example, say we want to take data on proper motions, but are not very interested in photometric data. In this example, under \"Display Columns\" we could add a checkmark to pmra and pmdec (proper motion), and uncheck other columns we don't need. We will also have the RA and Dec columns to recreate the plot we did above.\n",
    "6. Play around with the conditions and columns if you want!\n",
    "7. Make sure that the \"Search In\" drop down says \"gaiadr2.gaia_source\". This specifies the data we want to use is frrom source of Gaia DR2\n",
    "8. Click \"Submit Query\"\n",
    "9. You'll see a table pop up with the first 20 results from the query. At the bottom, change \"VOTable\" to \"csv\" and click \"Download results\". This will download a csv to your computer with the queried data in it.\n",
    "\n",
    "*You can always click on \"Show query in ADQL form\" below, to see what your basic query would look like in ADQL syntax!*\n",
    "\n",
    "Let us read the data in Python and plot the results"
   ]
  },
  {
   "cell_type": "code",
   "execution_count": 5,
   "metadata": {},
   "outputs": [
    {
     "name": "stdout",
     "output_type": "stream",
     "text": [
      "(Rows, Columns) = (160, 22)\n"
     ]
    },
    {
     "data": {
      "image/png": "[encoded data removed]",
      "text/plain": [
       "<Figure size 720x720 with 1 Axes>"
      ]
     },
     "metadata": {
      "needs_background": "light"
     },
     "output_type": "display_data"
    }
   ],
   "source": [
    "#For example, let's repeat the above plot\n",
    "m92 = pd.read_csv('data/m92.csv') # I renamed my csv file to 'm92.csv' and put it in the the subfolder 'data'\n",
    "print(\"(Rows, Columns) =\", m92.shape) # Here we can see that we got only 160 stars\n",
    "\n",
    "fig = plt.figure(figsize = [10,10]) # Defining and sizing figure\n",
    "\n",
    "plt.scatter(m92['ra'], m92['dec']) # Creating a scatter-plot\n",
    "plt.plot(259.2833, 43.1358, 'ro') # Plotting the coordinates of M92 in red\n",
    "\n",
    "#Setting labels and title\n",
    "plt.xlabel('RA (°)')\n",
    "plt.ylabel('Dec (°)')\n",
    "plt.title('Stars around Messier 92 with parallax>=5 and parallax over error>=20 from Gaia DR2')\n",
    "plt.show()"
   ]
  },
  {
   "cell_type": "code",
   "execution_count": 6,
   "metadata": {},
   "outputs": [
    {
     "data": {
      "image/png": "[encoded data removed]",
      "text/plain": [
       "<Figure size 720x360 with 2 Axes>"
      ]
     },
     "metadata": {
      "needs_background": "light"
     },
     "output_type": "display_data"
    }
   ],
   "source": [
    "# Another example, let's take a quick & dirty look at the distribution of proper motions\n",
    "# Here we plot the histograms of the pmra and pmdec values (in micro arcseconds per year)\n",
    "\n",
    "fig, (ax1, ax2) = plt.subplots(1, 2, figsize=(10,5), sharey=True)\n",
    "ax1.hist(m92['pmra'], label=\"PM_RA\", color=\"r\")\n",
    "ax2.hist(m92['pmdec'], label=\"PM_DEC\", color=\"g\")\n",
    "\n",
    "ax1.set_ylabel('count')\n",
    "ax1.set_xlabel('proper motion (mas/yr)')\n",
    "ax2.set_xlabel('proper motion (mas/yr)')\n",
    "\n",
    "ax1.legend(loc=\"best\", fontsize=14, numpoints=1)\n",
    "ax2.legend(loc=\"best\", fontsize=14, numpoints=1)\n",
    "plt.show()"
   ]
  },
  {
   "cell_type": "markdown",
   "metadata": {},
   "source": [
    "Play around with your data and matplotlib. What interesting things can you find?"
   ]
  },
  {
   "cell_type": "markdown",
   "metadata": {},
   "source": [
    "### 1.5. Querying data with ADQL\n",
    "\n",
    "#### 1.5.1. About ADQL\n",
    "ADQL is a data query language similar to SQL, built for astronomical data purposes. Its syntax is similar enough to SQL if you are familiar with it, though with some differences. In ADQL you write queries to fetch data from the database, here, from the Gaia Archive Database. **If you are aware of basic level SQL, you can skip the following details (Marked with ✅)**\n",
    "\n",
    "\n",
    "✅ A query has a specific structure it pertains to, just like a command. It is a compound of mainly these parts (only SELECT and FROM parts are required, others are optional) - \n",
    "1. ✅ **SELECT part**- It tells the columns we want to fetch in the query. The columns can be fetched using either `column_name` directly, or in case of complex queries involving multiple tables, require `table_name.column_name` to avoid any column name conflicts. We can also use ADQL functions or arithmetics in the SELECT part to manipulate the data before fetching it. If we want to fetch all columns from the table, we can use `SELECT *` or `SELECT table_name.*`. We can also set the (maximum) number of rows from the top we want to query using `SELECT TOP required_number` (Similarly, for bottom rows, we can use the keyword BOTTOM).\n",
    "2. ✅ **FROM part**- It tells the table we want to fetch data from. It usually consists the schema name (which is a logical sub-structure of a database) and the table name. For example, for fetching the source data from the Gaia DR2 schema, we will have to use `FROM gaiadr2.gaia_source`.\n",
    "3. ✅ **WHERE part**- It tells the conditions for fetching the data. As in the above example, we used two conditions other than the globular cluster name. These can be written as `WHERE gaia_source.parallax>=5 AND gaia_source.parallax_over_error>=20`, where `AND` is a restricted keyword in ADQL used to signify that both these conditions must be met for the queried rows\n",
    "4. ✅ **ORDER BY part**- It tells how the data should be Ordered before fetching the data. We can use one or more colums to order the data on and `DESC` or `ASC` are used to specify the ordering to be Descending or Ascending respectively. The data is only ordered for the query and no changes are made in the actual data table. If we need the data to be ordered randomly, we need to use `ORDER BY random_item`, where `random_item` is a restricted keyword in ADQL.\n",
    "\n",
    "✅ So, a simple query structure is\n",
    "`SELECT <columns> FROM <tables> WHERE <conditions> ORDER BY <columns>`\n",
    "\n",
    "There are more such parts we can add like GROUP BY (to create factor sets/subsets that have identical values for one or more columns, used to compute aggregates), INNER JOIN (to make computations on one or more referenced columns within a table), OUTER JOIN (to make computation based on multiple tables lined by one or more referenced columns), etc. The main distiction between SQL and ADQL is the addition of **Geometric extension functions** to SQL\n",
    "\n",
    "\n",
    "#### 💡More resources for learning ADQL are mentioned in the Assignment part below.\n",
    "\n"
   ]
  },
  {
   "cell_type": "markdown",
   "metadata": {},
   "source": [
    "#### 1.5.2. Writing a simple query\n",
    "\n",
    "We're going to now look at a very simple ADQL query - Let's select the 100 stars closest to Earth (so, with the largest parallaxes) using ADQL. The syntax for this query goes as follows:\n",
    "\n",
    "We select the top 100 results:\n",
    "\n",
    "`SELECT TOP 100`\n",
    "\n",
    "...and the following columns:\n",
    "\n",
    "`gaia_source.source_id, gaia_source.ra, gaia_source.ra_error, gaia_source.dec, gaia_source.dec_error,\n",
    "gaia_source.parallax, gaia_source.parallax_error`\n",
    "\n",
    "...from the DR2 Source catalog:\n",
    "\n",
    "`FROM gaiadr2.gaia_source`\n",
    "\n",
    "...where the parallax is greater than 0 (to avoid issues with improperly catalogued parallaxes):\n",
    "\n",
    "`WHERE gaia_source.parallax >= 0`\n",
    "\n",
    "...and the results are in descending order by parallax to get the top 100 entries with maximum parallax:\n",
    "\n",
    "`ORDER BY gaia_source.parallax DESC`\n",
    "\n",
    "Putting the whole query together:\n",
    "\n",
    "`SELECT TOP 100 \n",
    "gaia_source.source_id, gaia_source.ra, gaia_source.ra_error, gaia_source.dec, gaia_source.dec_error,\n",
    "gaia_source.parallax, gaia_source.parallax_error\n",
    "FROM gaiadr2.gaia_source\n",
    "WHERE gaia_source.parallax >= 0\n",
    "ORDER BY gaia_source.parallax DESC`\n"
   ]
  },
  {
   "cell_type": "code",
   "execution_count": 7,
   "metadata": {},
   "outputs": [
    {
     "name": "stdout",
     "output_type": "stream",
     "text": [
      "(100, 7)\n"
     ]
    },
    {
     "data": {
      "text/html": [
       "<div>\n",
       "<style scoped>\n",
       "    .dataframe tbody tr th:only-of-type {\n",
       "        vertical-align: middle;\n",
       "    }\n",
       "\n",
       "    .dataframe tbody tr th {\n",
       "        vertical-align: top;\n",
       "    }\n",
       "\n",
       "    .dataframe thead th {\n",
       "        text-align: right;\n",
       "    }\n",
       "</style>\n",
       "<table border=\"1\" class=\"dataframe\">\n",
       "  <thead>\n",
       "    <tr style=\"text-align: right;\">\n",
       "      <th></th>\n",
       "      <th>source_id</th>\n",
       "      <th>ra</th>\n",
       "      <th>ra_error</th>\n",
       "      <th>dec</th>\n",
       "      <th>dec_error</th>\n",
       "      <th>parallax</th>\n",
       "      <th>parallax_error</th>\n",
       "    </tr>\n",
       "  </thead>\n",
       "  <tbody>\n",
       "    <tr>\n",
       "      <th>0</th>\n",
       "      <td>4062964299525805952</td>\n",
       "      <td>272.237829</td>\n",
       "      <td>1.276152</td>\n",
       "      <td>-27.645916</td>\n",
       "      <td>0.830618</td>\n",
       "      <td>1851.882140</td>\n",
       "      <td>1.285094</td>\n",
       "    </tr>\n",
       "    <tr>\n",
       "      <th>1</th>\n",
       "      <td>4065202424204492928</td>\n",
       "      <td>274.906872</td>\n",
       "      <td>1.251748</td>\n",
       "      <td>-25.255882</td>\n",
       "      <td>1.571499</td>\n",
       "      <td>1847.433349</td>\n",
       "      <td>1.874937</td>\n",
       "    </tr>\n",
       "    <tr>\n",
       "      <th>2</th>\n",
       "      <td>4051942623265668864</td>\n",
       "      <td>276.223193</td>\n",
       "      <td>0.682959</td>\n",
       "      <td>-27.140479</td>\n",
       "      <td>0.500750</td>\n",
       "      <td>1686.265958</td>\n",
       "      <td>1.473535</td>\n",
       "    </tr>\n",
       "    <tr>\n",
       "      <th>3</th>\n",
       "      <td>4048978992784308992</td>\n",
       "      <td>273.112421</td>\n",
       "      <td>1.092637</td>\n",
       "      <td>-31.184670</td>\n",
       "      <td>1.362824</td>\n",
       "      <td>1634.283354</td>\n",
       "      <td>1.971231</td>\n",
       "    </tr>\n",
       "    <tr>\n",
       "      <th>4</th>\n",
       "      <td>4059168373166457472</td>\n",
       "      <td>259.297177</td>\n",
       "      <td>1.640748</td>\n",
       "      <td>-30.486547</td>\n",
       "      <td>2.069445</td>\n",
       "      <td>1513.989051</td>\n",
       "      <td>2.868580</td>\n",
       "    </tr>\n",
       "  </tbody>\n",
       "</table>\n",
       "</div>"
      ],
      "text/plain": [
       "             source_id          ra  ra_error        dec  dec_error  \\\n",
       "0  4062964299525805952  272.237829  1.276152 -27.645916   0.830618   \n",
       "1  4065202424204492928  274.906872  1.251748 -25.255882   1.571499   \n",
       "2  4051942623265668864  276.223193  0.682959 -27.140479   0.500750   \n",
       "3  4048978992784308992  273.112421  1.092637 -31.184670   1.362824   \n",
       "4  4059168373166457472  259.297177  1.640748 -30.486547   2.069445   \n",
       "\n",
       "      parallax  parallax_error  \n",
       "0  1851.882140        1.285094  \n",
       "1  1847.433349        1.874937  \n",
       "2  1686.265958        1.473535  \n",
       "3  1634.283354        1.971231  \n",
       "4  1513.989051        2.868580  "
      ]
     },
     "execution_count": 7,
     "metadata": {},
     "output_type": "execute_result"
    }
   ],
   "source": [
    "#Let's take a look at what this data looks like!\n",
    "closest100 = pd.read_csv('data/closest100_result.csv')\n",
    "print(closest100.shape)\n",
    "closest100.head()"
   ]
  },
  {
   "cell_type": "markdown",
   "metadata": {},
   "source": [
    "# 2. Assignment\n",
    "\n",
    "### 2.1. Notes:\n",
    "- Working with ADQL can be challenging, especially if you don't have experience with SQL or related query languages. If you spend too much time stuck on a task, post about it on Piazza (you can post anonymously if you want). An instructor will help you out! Don't struggle needlessly.\n",
    "- Make sure you complete the pandas and matplotlib tutorials before attempting this assignment."
   ]
  },
  {
   "cell_type": "markdown",
   "metadata": {},
   "source": [
    "### 2.2. Learn More About ADQL\n",
    "\n",
    "1. Navigate to the Gaia ADQL interface. First, go [here](https://gea.esac.esa.int/archive/). Click \"Search,\" then click \"Advanced (ADQL)\" (in the top left corner of the page). \n",
    "\n",
    "2. Read [this webpage](https://www.gaia.ac.uk/data/gaia-data-release-1/adql-cookbook) (only till *'Ten example ADQL queries'*; you can read the example queries if you want to go a step further!) \n",
    "\n",
    "3. Read slides 6-14 in [this powerpoint](https://www.cosmos.esa.int/documents/915837/915858/ADQL_handson_slides.pdf/652b9120-a3fe-4857-b5eb-933b476687ad).\n",
    "\n",
    "   Try out some of the commands for yourself in the Gaia ADQL search bar you opened in step 1. Using the buttons that pop up to the right of your query results, you can download the results or view them in your browser. Hover over the buttons to see what they do.\n",
    "\n",
    "   Don't worry if you don't understand everything in the powerpoint or the website! Pick out the most important slides/functions and summarize them for yourself. A quick ADQL reference guide can also be used [here](https://www.g-vo.org/pmwiki/uploads/About/adqlref_2016.pdf) \n",
    "   \n",
    "   ** Note: wherever the powerpoint uses \"gaiadr1.tgas_source,\" replace with \"gaiadr2.gaia_source.\""
   ]
  },
  {
   "cell_type": "markdown",
   "metadata": {},
   "source": [
    "## 2.3 Use the Gaia DR2 Database to Get Gaia Parameters for the 10,000 Closest Stars"
   ]
  },
  {
   "cell_type": "markdown",
   "metadata": {},
   "source": [
    "### 2.3.1 Write an ADQL query to get parameters of the 10,000 closest stars. Your query should return the following parameters:\n",
    "\n",
    "- BP - RP color (bp_rp in the Gaia database)\n",
    "- absolute g-band photometric magnitude (you'll need to calculate this one)\n",
    "- distance\n",
    "- RA\n",
    "- Dec\n",
    "- radius\n",
    "- effective temprature\n",
    "\n",
    "#### Download your Query Results as a csv file. \n",
    "\n",
    "#### Hints:\n",
    "- Distance (in parsecs) is the inverse of parallax (in arcseconds). Keep an eye on units! Gaia by default shows parallaxes in milliarcseconds (mas) .\n",
    "- You can calculate absolute photometric magnitude in the gband using this formula: phot_g_mean_mag + 5 + 5 * log10(parallax/1000). You can alias this value and can use these in conditions, grouping, joins, or ordering the data.\n",
    "- Find the names of the colums for RA, Dec, radius and effective temparature using the database window part in the *Advanced (ADQL)* tab in *'Search'* of the Gaia archive \n",
    "- You'll need to use \"ORDER BY\" in your ADQL command.\n",
    "- Some Gaia sources have negative parallaxes due to instrumental imperfections. You'll need to add a line to your query specifying that parallax must be greater than 0. \n",
    "- Using the buttons that pop up to the right of your query results, you can download the results or view them in your browser. Hover over the buttons to see what they do."
   ]
  },
  {
   "cell_type": "markdown",
   "metadata": {},
   "source": [
    "## 2.4. Plot a Color-Magnitude Diagram of the 10,000 Closest Stars"
   ]
  },
  {
   "cell_type": "markdown",
   "metadata": {},
   "source": [
    "### 1. Using [pandas.read_csv](https://pandas.pydata.org/pandas-docs/stable/generated/pandas.read_csv.html), read your downloaded csv file into a pandas DataFrame"
   ]
  },
  {
   "cell_type": "code",
   "execution_count": null,
   "metadata": {},
   "outputs": [],
   "source": [
    "import pandas as pd\n",
    "import matplotlib.pyplot as plt\n",
    "%pylab inline\n",
    "\n",
    "# Type your pd.read_csv command here: \n",
    "\n",
    "# HINTS: \n",
    "# - make sure the jupyter notebook and your csv file are in the same directory (or the csv file is in a subdirectory)\n",
    "# - your read_csv command should be 1 line of code"
   ]
  },
  {
   "cell_type": "markdown",
   "metadata": {},
   "source": [
    "### 2. Using matplotlib.pyplot, make a scatterplot of BP-RP color vs absolute g-band magnitude. This is a [color-magnitude diagram, or the famously known, HR Diagram](https://en.wikipedia.org/wiki/Hertzsprung%E2%80%93Russell_diagram)! "
   ]
  },
  {
   "cell_type": "code",
   "execution_count": null,
   "metadata": {},
   "outputs": [],
   "source": [
    "plt.figure()\n",
    "\n",
    "# Type your plotting code here:\n",
    "\n",
    "\n",
    "# More Fun Things to Try if You're Interested:\n",
    "# - use plt.ylim to reverse the direction of the y axis.\n",
    "# - give your plot x and y labels.\n",
    "# - make the points red\n",
    "# - make the 10 closest stars blue and bigger than others"
   ]
  },
  {
   "cell_type": "code",
   "execution_count": null,
   "metadata": {},
   "outputs": [],
   "source": [
    "# More Fun Things to try if you're interested - Part 2:\n",
    "# - give sizes of the stars as per their radii (only for stars having a non null radius_val in the data)\n",
    "# - color the stars as per their effective tempratures (only for stars having a non null teff_val in the data)"
   ]
  },
  {
   "cell_type": "markdown",
   "metadata": {},
   "source": [
    "## 2.5. BONUS Assignment\n",
    "- Compare your results against Figure 1 and Figure 2 in this paper: **[Babusiaux et al. (2018)](https://arxiv.org/pdf/1804.09378.pdf).** \n",
    "- What similarities and differences do you notice? \n",
    "- Challenge 1 : read section 2.1 of this paper and try to reproduce their plot exactly.\n",
    "- Challenge 2: Go to Week1 Python and Jupyter Intro.ipynb and try making the 3D plot with the 10,000 closest stars data you fetched"
   ]
  }
 ],
 "metadata": {
  "kernelspec": {
   "display_name": "Python 3",
   "language": "python",
   "name": "python3"
  },
  "language_info": {
   "codemirror_mode": {
    "name": "ipython",
    "version": 3
   },
   "file_extension": ".py",
   "mimetype": "text/x-python",
   "name": "python",
   "nbconvert_exporter": "python",
   "pygments_lexer": "ipython3",
   "version": "3.8.5"
  }
 },
 "nbformat": 4,
 "nbformat_minor": 2
}
